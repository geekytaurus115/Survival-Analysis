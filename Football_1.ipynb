{
  "nbformat": 4,
  "nbformat_minor": 0,
  "metadata": {
    "colab": {
      "name": "Football_1.ipynb",
      "provenance": [],
      "collapsed_sections": [],
      "authorship_tag": "ABX9TyMmg0xwl2JWAmxOvZg1xYoG",
      "include_colab_link": true
    },
    "kernelspec": {
      "name": "python3",
      "display_name": "Python 3"
    },
    "language_info": {
      "name": "python"
    }
  },
  "cells": [
    {
      "cell_type": "markdown",
      "metadata": {
        "id": "view-in-github",
        "colab_type": "text"
      },
      "source": [
        "<a href=\"https://colab.research.google.com/github/geekytaurus115/Survival-Analysis/blob/main/Football_1.ipynb\" target=\"_parent\"><img src=\"https://colab.research.google.com/assets/colab-badge.svg\" alt=\"Open In Colab\"/></a>"
      ]
    },
    {
      "cell_type": "code",
      "execution_count": null,
      "metadata": {
        "id": "vWJWQy15AD19"
      },
      "outputs": [],
      "source": [
        "import http.client\n",
        "import json\n",
        "\n",
        "connection = http.client.HTTPConnection('api.football-data.org')\n",
        "headers = {'X-Auth-Token': '7bb329a7cc2847c5b7441cc8ad6b2451'}\n",
        "connection.request(\n",
        "    'GET', '/v2/competitions/PL/matches', None, headers)\n",
        "response = json.loads(connection.getresponse().read().decode())\n",
        "\n",
        "                         \n",
        "print(response)"
      ]
    },
    {
      "cell_type": "code",
      "source": [
        "#print(type(response))"
      ],
      "metadata": {
        "id": "jQ2P2r9cAR_W"
      },
      "execution_count": null,
      "outputs": []
    },
    {
      "cell_type": "code",
      "source": [
        "my_res1 = {\n",
        "    \"startDate\" : response[\"matches\"][0][\"season\"][\"startDate\"],\n",
        "    \"endDate\" : response[\"matches\"][0][\"season\"][\"endDate\"],\n",
        "    \"homeTeam\" : response[\"matches\"][0][\"homeTeam\"][\"name\"],\n",
        "    \"awayTeam\" : response[\"matches\"][0][\"awayTeam\"][\"name\"],\n",
        "    \"status\" : response[\"matches\"][0][\"status\"],\n",
        "    \"homeTeamScore\" : response[\"matches\"][0][\"score\"][\"fullTime\"][\"homeTeam\"],\n",
        "    \"awayTeamScore\" : response[\"matches\"][0][\"score\"][\"fullTime\"][\"awayTeam\"],\n",
        "    \"result\" : response[\"matches\"][0][\"score\"][\"winner\"]\n",
        "}"
      ],
      "metadata": {
        "id": "IwOo6Q8kEaRI"
      },
      "execution_count": 2,
      "outputs": []
    },
    {
      "cell_type": "code",
      "source": [
        "#print(my_res1)"
      ],
      "metadata": {
        "id": "UHEN8mzoGDnE"
      },
      "execution_count": 3,
      "outputs": []
    },
    {
      "cell_type": "code",
      "source": [
        "for key, value in response.items():\n",
        "  print(key)"
      ],
      "metadata": {
        "id": "Mcepme_NQApt"
      },
      "execution_count": null,
      "outputs": []
    },
    {
      "cell_type": "code",
      "source": [
        "for key, value in response.items():\n",
        "  if(key == \"matches\"):\n",
        "    print(type(value))\n",
        "    match_list = value"
      ],
      "metadata": {
        "id": "YY1iXpqhVL03",
        "colab": {
          "base_uri": "https://localhost:8080/"
        },
        "outputId": "048efb79-e5b0-458d-c6d0-6affb13359cb"
      },
      "execution_count": 5,
      "outputs": [
        {
          "output_type": "stream",
          "name": "stdout",
          "text": [
            "<class 'list'>\n"
          ]
        }
      ]
    },
    {
      "cell_type": "code",
      "source": [
        "print(match_list)"
      ],
      "metadata": {
        "id": "HsHU3aojWmhp"
      },
      "execution_count": null,
      "outputs": []
    },
    {
      "cell_type": "code",
      "source": [
        "print(match_list[0])\n",
        "print(type(match_list[0]))"
      ],
      "metadata": {
        "id": "LAcapCdxpv1B"
      },
      "execution_count": null,
      "outputs": []
    },
    {
      "cell_type": "code",
      "source": [
        "print(len(match_list))"
      ],
      "metadata": {
        "id": "LRCBbZPgtr2U"
      },
      "execution_count": null,
      "outputs": []
    },
    {
      "cell_type": "code",
      "source": [
        "final_list = []\n",
        "for i in range(len(match_list)):\n",
        "  dict_for_eachMatch = {\n",
        "      \"startDate\" : match_list[i][\"season\"][\"startDate\"],\n",
        "      \"endDate\" : match_list[i][\"season\"][\"endDate\"],\n",
        "      \"date\" : match_list[i][\"utcDate\"],\n",
        "      \"homeTeam\" : match_list[i][\"homeTeam\"][\"name\"],\n",
        "      \"awayTeam\" : match_list[i][\"awayTeam\"][\"name\"],\n",
        "      \"status\" : match_list[i][\"status\"],\n",
        "      \"homeTeamScore\" : match_list[i][\"score\"][\"fullTime\"][\"homeTeam\"],\n",
        "      \"awayTeamScore\" : match_list[i][\"score\"][\"fullTime\"][\"awayTeam\"],\n",
        "      \"result\" : match_list[i][\"score\"][\"winner\"]\n",
        "\n",
        "  }\n",
        "  final_list.append(dict_for_eachMatch)"
      ],
      "metadata": {
        "id": "fDBhBuU5qNmM"
      },
      "execution_count": 6,
      "outputs": []
    },
    {
      "cell_type": "code",
      "source": [
        "print(final_list)"
      ],
      "metadata": {
        "id": "0yNVe_ETtiSF"
      },
      "execution_count": null,
      "outputs": []
    },
    {
      "cell_type": "code",
      "source": [
        "import csv\n",
        "\n",
        "keys = final_list[0].keys()\n",
        "\n",
        "with open('match_data.csv', 'w', newline='') as output_file:\n",
        "    dict_writer = csv.DictWriter(output_file, keys)\n",
        "    dict_writer.writeheader()\n",
        "    dict_writer.writerows(final_list)\n"
      ],
      "metadata": {
        "id": "K3SHq2ZHxLj5"
      },
      "execution_count": 7,
      "outputs": []
    },
    {
      "cell_type": "markdown",
      "source": [
        "## Data Preparation and cleaning"
      ],
      "metadata": {
        "id": "zScWBtjuX0Zv"
      }
    },
    {
      "cell_type": "code",
      "source": [
        "import pandas as pd"
      ],
      "metadata": {
        "id": "YuzZnkEWYFpY"
      },
      "execution_count": 8,
      "outputs": []
    },
    {
      "cell_type": "code",
      "source": [
        "from google.colab import drive\n",
        "drive.mount('/content/drive')"
      ],
      "metadata": {
        "colab": {
          "base_uri": "https://localhost:8080/"
        },
        "id": "6GxVr-zKZA9m",
        "outputId": "c06c30af-4590-424c-f7c0-8e5d373a3342"
      },
      "execution_count": 10,
      "outputs": [
        {
          "output_type": "stream",
          "name": "stdout",
          "text": [
            "Mounted at /content/drive\n"
          ]
        }
      ]
    },
    {
      "cell_type": "code",
      "source": [
        "path = \"/content/drive/MyDrive/Colab Notebooks/match_data.csv\"\n",
        "df = pd.read_csv(path)"
      ],
      "metadata": {
        "id": "MSiF07z6Xh8U"
      },
      "execution_count": 11,
      "outputs": []
    },
    {
      "cell_type": "code",
      "source": [
        "df"
      ],
      "metadata": {
        "colab": {
          "base_uri": "https://localhost:8080/",
          "height": 423
        },
        "id": "7g-AeKURZ2Hi",
        "outputId": "68f00e75-c466-4005-d8cd-a4704d472189"
      },
      "execution_count": 12,
      "outputs": [
        {
          "output_type": "execute_result",
          "data": {
            "text/plain": [
              "                     date                   homeTeam  \\\n",
              "0    2021-08-13T19:00:00Z               Brentford FC   \n",
              "1    2021-08-14T11:30:00Z       Manchester United FC   \n",
              "2    2021-08-14T14:00:00Z                 Watford FC   \n",
              "3    2021-08-14T14:00:00Z          Leicester City FC   \n",
              "4    2021-08-14T14:00:00Z                 Everton FC   \n",
              "..                    ...                        ...   \n",
              "375  2022-05-22T15:00:00Z                 Chelsea FC   \n",
              "376  2022-05-22T15:00:00Z                 Burnley FC   \n",
              "377  2022-05-22T15:00:00Z  Brighton & Hove Albion FC   \n",
              "378  2022-05-22T15:00:00Z               Brentford FC   \n",
              "379  2022-05-22T15:00:00Z                 Arsenal FC   \n",
              "\n",
              "                       awayTeam     status  homeTeamScore  awayTeamScore  \\\n",
              "0                    Arsenal FC   FINISHED            2.0            0.0   \n",
              "1               Leeds United FC   FINISHED            5.0            1.0   \n",
              "2                Aston Villa FC   FINISHED            3.0            2.0   \n",
              "3    Wolverhampton Wanderers FC   FINISHED            1.0            0.0   \n",
              "4                Southampton FC   FINISHED            3.0            1.0   \n",
              "..                          ...        ...            ...            ...   \n",
              "375                  Watford FC  SCHEDULED            NaN            NaN   \n",
              "376         Newcastle United FC  SCHEDULED            NaN            NaN   \n",
              "377          West Ham United FC  SCHEDULED            NaN            NaN   \n",
              "378             Leeds United FC  SCHEDULED            NaN            NaN   \n",
              "379                  Everton FC  SCHEDULED            NaN            NaN   \n",
              "\n",
              "        result  \n",
              "0    HOME_TEAM  \n",
              "1    HOME_TEAM  \n",
              "2    HOME_TEAM  \n",
              "3    HOME_TEAM  \n",
              "4    HOME_TEAM  \n",
              "..         ...  \n",
              "375        NaN  \n",
              "376        NaN  \n",
              "377        NaN  \n",
              "378        NaN  \n",
              "379        NaN  \n",
              "\n",
              "[380 rows x 7 columns]"
            ],
            "text/html": [
              "\n",
              "  <div id=\"df-12e64d7a-af27-4835-9f51-1d5b055a87aa\">\n",
              "    <div class=\"colab-df-container\">\n",
              "      <div>\n",
              "<style scoped>\n",
              "    .dataframe tbody tr th:only-of-type {\n",
              "        vertical-align: middle;\n",
              "    }\n",
              "\n",
              "    .dataframe tbody tr th {\n",
              "        vertical-align: top;\n",
              "    }\n",
              "\n",
              "    .dataframe thead th {\n",
              "        text-align: right;\n",
              "    }\n",
              "</style>\n",
              "<table border=\"1\" class=\"dataframe\">\n",
              "  <thead>\n",
              "    <tr style=\"text-align: right;\">\n",
              "      <th></th>\n",
              "      <th>date</th>\n",
              "      <th>homeTeam</th>\n",
              "      <th>awayTeam</th>\n",
              "      <th>status</th>\n",
              "      <th>homeTeamScore</th>\n",
              "      <th>awayTeamScore</th>\n",
              "      <th>result</th>\n",
              "    </tr>\n",
              "  </thead>\n",
              "  <tbody>\n",
              "    <tr>\n",
              "      <th>0</th>\n",
              "      <td>2021-08-13T19:00:00Z</td>\n",
              "      <td>Brentford FC</td>\n",
              "      <td>Arsenal FC</td>\n",
              "      <td>FINISHED</td>\n",
              "      <td>2.0</td>\n",
              "      <td>0.0</td>\n",
              "      <td>HOME_TEAM</td>\n",
              "    </tr>\n",
              "    <tr>\n",
              "      <th>1</th>\n",
              "      <td>2021-08-14T11:30:00Z</td>\n",
              "      <td>Manchester United FC</td>\n",
              "      <td>Leeds United FC</td>\n",
              "      <td>FINISHED</td>\n",
              "      <td>5.0</td>\n",
              "      <td>1.0</td>\n",
              "      <td>HOME_TEAM</td>\n",
              "    </tr>\n",
              "    <tr>\n",
              "      <th>2</th>\n",
              "      <td>2021-08-14T14:00:00Z</td>\n",
              "      <td>Watford FC</td>\n",
              "      <td>Aston Villa FC</td>\n",
              "      <td>FINISHED</td>\n",
              "      <td>3.0</td>\n",
              "      <td>2.0</td>\n",
              "      <td>HOME_TEAM</td>\n",
              "    </tr>\n",
              "    <tr>\n",
              "      <th>3</th>\n",
              "      <td>2021-08-14T14:00:00Z</td>\n",
              "      <td>Leicester City FC</td>\n",
              "      <td>Wolverhampton Wanderers FC</td>\n",
              "      <td>FINISHED</td>\n",
              "      <td>1.0</td>\n",
              "      <td>0.0</td>\n",
              "      <td>HOME_TEAM</td>\n",
              "    </tr>\n",
              "    <tr>\n",
              "      <th>4</th>\n",
              "      <td>2021-08-14T14:00:00Z</td>\n",
              "      <td>Everton FC</td>\n",
              "      <td>Southampton FC</td>\n",
              "      <td>FINISHED</td>\n",
              "      <td>3.0</td>\n",
              "      <td>1.0</td>\n",
              "      <td>HOME_TEAM</td>\n",
              "    </tr>\n",
              "    <tr>\n",
              "      <th>...</th>\n",
              "      <td>...</td>\n",
              "      <td>...</td>\n",
              "      <td>...</td>\n",
              "      <td>...</td>\n",
              "      <td>...</td>\n",
              "      <td>...</td>\n",
              "      <td>...</td>\n",
              "    </tr>\n",
              "    <tr>\n",
              "      <th>375</th>\n",
              "      <td>2022-05-22T15:00:00Z</td>\n",
              "      <td>Chelsea FC</td>\n",
              "      <td>Watford FC</td>\n",
              "      <td>SCHEDULED</td>\n",
              "      <td>NaN</td>\n",
              "      <td>NaN</td>\n",
              "      <td>NaN</td>\n",
              "    </tr>\n",
              "    <tr>\n",
              "      <th>376</th>\n",
              "      <td>2022-05-22T15:00:00Z</td>\n",
              "      <td>Burnley FC</td>\n",
              "      <td>Newcastle United FC</td>\n",
              "      <td>SCHEDULED</td>\n",
              "      <td>NaN</td>\n",
              "      <td>NaN</td>\n",
              "      <td>NaN</td>\n",
              "    </tr>\n",
              "    <tr>\n",
              "      <th>377</th>\n",
              "      <td>2022-05-22T15:00:00Z</td>\n",
              "      <td>Brighton &amp; Hove Albion FC</td>\n",
              "      <td>West Ham United FC</td>\n",
              "      <td>SCHEDULED</td>\n",
              "      <td>NaN</td>\n",
              "      <td>NaN</td>\n",
              "      <td>NaN</td>\n",
              "    </tr>\n",
              "    <tr>\n",
              "      <th>378</th>\n",
              "      <td>2022-05-22T15:00:00Z</td>\n",
              "      <td>Brentford FC</td>\n",
              "      <td>Leeds United FC</td>\n",
              "      <td>SCHEDULED</td>\n",
              "      <td>NaN</td>\n",
              "      <td>NaN</td>\n",
              "      <td>NaN</td>\n",
              "    </tr>\n",
              "    <tr>\n",
              "      <th>379</th>\n",
              "      <td>2022-05-22T15:00:00Z</td>\n",
              "      <td>Arsenal FC</td>\n",
              "      <td>Everton FC</td>\n",
              "      <td>SCHEDULED</td>\n",
              "      <td>NaN</td>\n",
              "      <td>NaN</td>\n",
              "      <td>NaN</td>\n",
              "    </tr>\n",
              "  </tbody>\n",
              "</table>\n",
              "<p>380 rows × 7 columns</p>\n",
              "</div>\n",
              "      <button class=\"colab-df-convert\" onclick=\"convertToInteractive('df-12e64d7a-af27-4835-9f51-1d5b055a87aa')\"\n",
              "              title=\"Convert this dataframe to an interactive table.\"\n",
              "              style=\"display:none;\">\n",
              "        \n",
              "  <svg xmlns=\"http://www.w3.org/2000/svg\" height=\"24px\"viewBox=\"0 0 24 24\"\n",
              "       width=\"24px\">\n",
              "    <path d=\"M0 0h24v24H0V0z\" fill=\"none\"/>\n",
              "    <path d=\"M18.56 5.44l.94 2.06.94-2.06 2.06-.94-2.06-.94-.94-2.06-.94 2.06-2.06.94zm-11 1L8.5 8.5l.94-2.06 2.06-.94-2.06-.94L8.5 2.5l-.94 2.06-2.06.94zm10 10l.94 2.06.94-2.06 2.06-.94-2.06-.94-.94-2.06-.94 2.06-2.06.94z\"/><path d=\"M17.41 7.96l-1.37-1.37c-.4-.4-.92-.59-1.43-.59-.52 0-1.04.2-1.43.59L10.3 9.45l-7.72 7.72c-.78.78-.78 2.05 0 2.83L4 21.41c.39.39.9.59 1.41.59.51 0 1.02-.2 1.41-.59l7.78-7.78 2.81-2.81c.8-.78.8-2.07 0-2.86zM5.41 20L4 18.59l7.72-7.72 1.47 1.35L5.41 20z\"/>\n",
              "  </svg>\n",
              "      </button>\n",
              "      \n",
              "  <style>\n",
              "    .colab-df-container {\n",
              "      display:flex;\n",
              "      flex-wrap:wrap;\n",
              "      gap: 12px;\n",
              "    }\n",
              "\n",
              "    .colab-df-convert {\n",
              "      background-color: #E8F0FE;\n",
              "      border: none;\n",
              "      border-radius: 50%;\n",
              "      cursor: pointer;\n",
              "      display: none;\n",
              "      fill: #1967D2;\n",
              "      height: 32px;\n",
              "      padding: 0 0 0 0;\n",
              "      width: 32px;\n",
              "    }\n",
              "\n",
              "    .colab-df-convert:hover {\n",
              "      background-color: #E2EBFA;\n",
              "      box-shadow: 0px 1px 2px rgba(60, 64, 67, 0.3), 0px 1px 3px 1px rgba(60, 64, 67, 0.15);\n",
              "      fill: #174EA6;\n",
              "    }\n",
              "\n",
              "    [theme=dark] .colab-df-convert {\n",
              "      background-color: #3B4455;\n",
              "      fill: #D2E3FC;\n",
              "    }\n",
              "\n",
              "    [theme=dark] .colab-df-convert:hover {\n",
              "      background-color: #434B5C;\n",
              "      box-shadow: 0px 1px 3px 1px rgba(0, 0, 0, 0.15);\n",
              "      filter: drop-shadow(0px 1px 2px rgba(0, 0, 0, 0.3));\n",
              "      fill: #FFFFFF;\n",
              "    }\n",
              "  </style>\n",
              "\n",
              "      <script>\n",
              "        const buttonEl =\n",
              "          document.querySelector('#df-12e64d7a-af27-4835-9f51-1d5b055a87aa button.colab-df-convert');\n",
              "        buttonEl.style.display =\n",
              "          google.colab.kernel.accessAllowed ? 'block' : 'none';\n",
              "\n",
              "        async function convertToInteractive(key) {\n",
              "          const element = document.querySelector('#df-12e64d7a-af27-4835-9f51-1d5b055a87aa');\n",
              "          const dataTable =\n",
              "            await google.colab.kernel.invokeFunction('convertToInteractive',\n",
              "                                                     [key], {});\n",
              "          if (!dataTable) return;\n",
              "\n",
              "          const docLinkHtml = 'Like what you see? Visit the ' +\n",
              "            '<a target=\"_blank\" href=https://colab.research.google.com/notebooks/data_table.ipynb>data table notebook</a>'\n",
              "            + ' to learn more about interactive tables.';\n",
              "          element.innerHTML = '';\n",
              "          dataTable['output_type'] = 'display_data';\n",
              "          await google.colab.output.renderOutput(dataTable, element);\n",
              "          const docLink = document.createElement('div');\n",
              "          docLink.innerHTML = docLinkHtml;\n",
              "          element.appendChild(docLink);\n",
              "        }\n",
              "      </script>\n",
              "    </div>\n",
              "  </div>\n",
              "  "
            ]
          },
          "metadata": {},
          "execution_count": 12
        }
      ]
    },
    {
      "cell_type": "code",
      "source": [
        "df.columns"
      ],
      "metadata": {
        "colab": {
          "base_uri": "https://localhost:8080/"
        },
        "id": "ajFPNFQpZ59x",
        "outputId": "ec8ca041-cae2-4220-be97-dae591f0d053"
      },
      "execution_count": 13,
      "outputs": [
        {
          "output_type": "execute_result",
          "data": {
            "text/plain": [
              "Index(['date', 'homeTeam', 'awayTeam', 'status', 'homeTeamScore',\n",
              "       'awayTeamScore', 'result'],\n",
              "      dtype='object')"
            ]
          },
          "metadata": {},
          "execution_count": 13
        }
      ]
    },
    {
      "cell_type": "code",
      "source": [
        "df.info()"
      ],
      "metadata": {
        "colab": {
          "base_uri": "https://localhost:8080/"
        },
        "id": "VjWdXfz8aNRG",
        "outputId": "b4f54880-b16a-4426-d450-1bd726d12250"
      },
      "execution_count": 14,
      "outputs": [
        {
          "output_type": "stream",
          "name": "stdout",
          "text": [
            "<class 'pandas.core.frame.DataFrame'>\n",
            "RangeIndex: 380 entries, 0 to 379\n",
            "Data columns (total 7 columns):\n",
            " #   Column         Non-Null Count  Dtype  \n",
            "---  ------         --------------  -----  \n",
            " 0   date           380 non-null    object \n",
            " 1   homeTeam       380 non-null    object \n",
            " 2   awayTeam       380 non-null    object \n",
            " 3   status         380 non-null    object \n",
            " 4   homeTeamScore  341 non-null    float64\n",
            " 5   awayTeamScore  341 non-null    float64\n",
            " 6   result         341 non-null    object \n",
            "dtypes: float64(2), object(5)\n",
            "memory usage: 20.9+ KB\n"
          ]
        }
      ]
    },
    {
      "cell_type": "code",
      "source": [
        "df.dropna()"
      ],
      "metadata": {
        "colab": {
          "base_uri": "https://localhost:8080/",
          "height": 423
        },
        "id": "k8q6FvY_w26E",
        "outputId": "556dab44-776e-4c82-af36-f75a5e1d3539"
      },
      "execution_count": 15,
      "outputs": [
        {
          "output_type": "execute_result",
          "data": {
            "text/plain": [
              "                     date                    homeTeam  \\\n",
              "0    2021-08-13T19:00:00Z                Brentford FC   \n",
              "1    2021-08-14T11:30:00Z        Manchester United FC   \n",
              "2    2021-08-14T14:00:00Z                  Watford FC   \n",
              "3    2021-08-14T14:00:00Z           Leicester City FC   \n",
              "4    2021-08-14T14:00:00Z                  Everton FC   \n",
              "..                    ...                         ...   \n",
              "336  2022-04-30T14:00:00Z  Wolverhampton Wanderers FC   \n",
              "337  2022-04-30T16:30:00Z             Leeds United FC   \n",
              "338  2022-05-01T13:00:00Z                  Everton FC   \n",
              "339  2022-05-01T13:00:00Z        Tottenham Hotspur FC   \n",
              "340  2022-05-01T15:30:00Z          West Ham United FC   \n",
              "\n",
              "                       awayTeam    status  homeTeamScore  awayTeamScore  \\\n",
              "0                    Arsenal FC  FINISHED            2.0            0.0   \n",
              "1               Leeds United FC  FINISHED            5.0            1.0   \n",
              "2                Aston Villa FC  FINISHED            3.0            2.0   \n",
              "3    Wolverhampton Wanderers FC  FINISHED            1.0            0.0   \n",
              "4                Southampton FC  FINISHED            3.0            1.0   \n",
              "..                          ...       ...            ...            ...   \n",
              "336   Brighton & Hove Albion FC  FINISHED            0.0            3.0   \n",
              "337          Manchester City FC  FINISHED            0.0            4.0   \n",
              "338                  Chelsea FC  FINISHED            1.0            0.0   \n",
              "339           Leicester City FC  FINISHED            3.0            1.0   \n",
              "340                  Arsenal FC  FINISHED            1.0            2.0   \n",
              "\n",
              "        result  \n",
              "0    HOME_TEAM  \n",
              "1    HOME_TEAM  \n",
              "2    HOME_TEAM  \n",
              "3    HOME_TEAM  \n",
              "4    HOME_TEAM  \n",
              "..         ...  \n",
              "336  AWAY_TEAM  \n",
              "337  AWAY_TEAM  \n",
              "338  HOME_TEAM  \n",
              "339  HOME_TEAM  \n",
              "340  AWAY_TEAM  \n",
              "\n",
              "[341 rows x 7 columns]"
            ],
            "text/html": [
              "\n",
              "  <div id=\"df-59240dac-fd6d-4de5-bfb7-6a16a7f10bbd\">\n",
              "    <div class=\"colab-df-container\">\n",
              "      <div>\n",
              "<style scoped>\n",
              "    .dataframe tbody tr th:only-of-type {\n",
              "        vertical-align: middle;\n",
              "    }\n",
              "\n",
              "    .dataframe tbody tr th {\n",
              "        vertical-align: top;\n",
              "    }\n",
              "\n",
              "    .dataframe thead th {\n",
              "        text-align: right;\n",
              "    }\n",
              "</style>\n",
              "<table border=\"1\" class=\"dataframe\">\n",
              "  <thead>\n",
              "    <tr style=\"text-align: right;\">\n",
              "      <th></th>\n",
              "      <th>date</th>\n",
              "      <th>homeTeam</th>\n",
              "      <th>awayTeam</th>\n",
              "      <th>status</th>\n",
              "      <th>homeTeamScore</th>\n",
              "      <th>awayTeamScore</th>\n",
              "      <th>result</th>\n",
              "    </tr>\n",
              "  </thead>\n",
              "  <tbody>\n",
              "    <tr>\n",
              "      <th>0</th>\n",
              "      <td>2021-08-13T19:00:00Z</td>\n",
              "      <td>Brentford FC</td>\n",
              "      <td>Arsenal FC</td>\n",
              "      <td>FINISHED</td>\n",
              "      <td>2.0</td>\n",
              "      <td>0.0</td>\n",
              "      <td>HOME_TEAM</td>\n",
              "    </tr>\n",
              "    <tr>\n",
              "      <th>1</th>\n",
              "      <td>2021-08-14T11:30:00Z</td>\n",
              "      <td>Manchester United FC</td>\n",
              "      <td>Leeds United FC</td>\n",
              "      <td>FINISHED</td>\n",
              "      <td>5.0</td>\n",
              "      <td>1.0</td>\n",
              "      <td>HOME_TEAM</td>\n",
              "    </tr>\n",
              "    <tr>\n",
              "      <th>2</th>\n",
              "      <td>2021-08-14T14:00:00Z</td>\n",
              "      <td>Watford FC</td>\n",
              "      <td>Aston Villa FC</td>\n",
              "      <td>FINISHED</td>\n",
              "      <td>3.0</td>\n",
              "      <td>2.0</td>\n",
              "      <td>HOME_TEAM</td>\n",
              "    </tr>\n",
              "    <tr>\n",
              "      <th>3</th>\n",
              "      <td>2021-08-14T14:00:00Z</td>\n",
              "      <td>Leicester City FC</td>\n",
              "      <td>Wolverhampton Wanderers FC</td>\n",
              "      <td>FINISHED</td>\n",
              "      <td>1.0</td>\n",
              "      <td>0.0</td>\n",
              "      <td>HOME_TEAM</td>\n",
              "    </tr>\n",
              "    <tr>\n",
              "      <th>4</th>\n",
              "      <td>2021-08-14T14:00:00Z</td>\n",
              "      <td>Everton FC</td>\n",
              "      <td>Southampton FC</td>\n",
              "      <td>FINISHED</td>\n",
              "      <td>3.0</td>\n",
              "      <td>1.0</td>\n",
              "      <td>HOME_TEAM</td>\n",
              "    </tr>\n",
              "    <tr>\n",
              "      <th>...</th>\n",
              "      <td>...</td>\n",
              "      <td>...</td>\n",
              "      <td>...</td>\n",
              "      <td>...</td>\n",
              "      <td>...</td>\n",
              "      <td>...</td>\n",
              "      <td>...</td>\n",
              "    </tr>\n",
              "    <tr>\n",
              "      <th>336</th>\n",
              "      <td>2022-04-30T14:00:00Z</td>\n",
              "      <td>Wolverhampton Wanderers FC</td>\n",
              "      <td>Brighton &amp; Hove Albion FC</td>\n",
              "      <td>FINISHED</td>\n",
              "      <td>0.0</td>\n",
              "      <td>3.0</td>\n",
              "      <td>AWAY_TEAM</td>\n",
              "    </tr>\n",
              "    <tr>\n",
              "      <th>337</th>\n",
              "      <td>2022-04-30T16:30:00Z</td>\n",
              "      <td>Leeds United FC</td>\n",
              "      <td>Manchester City FC</td>\n",
              "      <td>FINISHED</td>\n",
              "      <td>0.0</td>\n",
              "      <td>4.0</td>\n",
              "      <td>AWAY_TEAM</td>\n",
              "    </tr>\n",
              "    <tr>\n",
              "      <th>338</th>\n",
              "      <td>2022-05-01T13:00:00Z</td>\n",
              "      <td>Everton FC</td>\n",
              "      <td>Chelsea FC</td>\n",
              "      <td>FINISHED</td>\n",
              "      <td>1.0</td>\n",
              "      <td>0.0</td>\n",
              "      <td>HOME_TEAM</td>\n",
              "    </tr>\n",
              "    <tr>\n",
              "      <th>339</th>\n",
              "      <td>2022-05-01T13:00:00Z</td>\n",
              "      <td>Tottenham Hotspur FC</td>\n",
              "      <td>Leicester City FC</td>\n",
              "      <td>FINISHED</td>\n",
              "      <td>3.0</td>\n",
              "      <td>1.0</td>\n",
              "      <td>HOME_TEAM</td>\n",
              "    </tr>\n",
              "    <tr>\n",
              "      <th>340</th>\n",
              "      <td>2022-05-01T15:30:00Z</td>\n",
              "      <td>West Ham United FC</td>\n",
              "      <td>Arsenal FC</td>\n",
              "      <td>FINISHED</td>\n",
              "      <td>1.0</td>\n",
              "      <td>2.0</td>\n",
              "      <td>AWAY_TEAM</td>\n",
              "    </tr>\n",
              "  </tbody>\n",
              "</table>\n",
              "<p>341 rows × 7 columns</p>\n",
              "</div>\n",
              "      <button class=\"colab-df-convert\" onclick=\"convertToInteractive('df-59240dac-fd6d-4de5-bfb7-6a16a7f10bbd')\"\n",
              "              title=\"Convert this dataframe to an interactive table.\"\n",
              "              style=\"display:none;\">\n",
              "        \n",
              "  <svg xmlns=\"http://www.w3.org/2000/svg\" height=\"24px\"viewBox=\"0 0 24 24\"\n",
              "       width=\"24px\">\n",
              "    <path d=\"M0 0h24v24H0V0z\" fill=\"none\"/>\n",
              "    <path d=\"M18.56 5.44l.94 2.06.94-2.06 2.06-.94-2.06-.94-.94-2.06-.94 2.06-2.06.94zm-11 1L8.5 8.5l.94-2.06 2.06-.94-2.06-.94L8.5 2.5l-.94 2.06-2.06.94zm10 10l.94 2.06.94-2.06 2.06-.94-2.06-.94-.94-2.06-.94 2.06-2.06.94z\"/><path d=\"M17.41 7.96l-1.37-1.37c-.4-.4-.92-.59-1.43-.59-.52 0-1.04.2-1.43.59L10.3 9.45l-7.72 7.72c-.78.78-.78 2.05 0 2.83L4 21.41c.39.39.9.59 1.41.59.51 0 1.02-.2 1.41-.59l7.78-7.78 2.81-2.81c.8-.78.8-2.07 0-2.86zM5.41 20L4 18.59l7.72-7.72 1.47 1.35L5.41 20z\"/>\n",
              "  </svg>\n",
              "      </button>\n",
              "      \n",
              "  <style>\n",
              "    .colab-df-container {\n",
              "      display:flex;\n",
              "      flex-wrap:wrap;\n",
              "      gap: 12px;\n",
              "    }\n",
              "\n",
              "    .colab-df-convert {\n",
              "      background-color: #E8F0FE;\n",
              "      border: none;\n",
              "      border-radius: 50%;\n",
              "      cursor: pointer;\n",
              "      display: none;\n",
              "      fill: #1967D2;\n",
              "      height: 32px;\n",
              "      padding: 0 0 0 0;\n",
              "      width: 32px;\n",
              "    }\n",
              "\n",
              "    .colab-df-convert:hover {\n",
              "      background-color: #E2EBFA;\n",
              "      box-shadow: 0px 1px 2px rgba(60, 64, 67, 0.3), 0px 1px 3px 1px rgba(60, 64, 67, 0.15);\n",
              "      fill: #174EA6;\n",
              "    }\n",
              "\n",
              "    [theme=dark] .colab-df-convert {\n",
              "      background-color: #3B4455;\n",
              "      fill: #D2E3FC;\n",
              "    }\n",
              "\n",
              "    [theme=dark] .colab-df-convert:hover {\n",
              "      background-color: #434B5C;\n",
              "      box-shadow: 0px 1px 3px 1px rgba(0, 0, 0, 0.15);\n",
              "      filter: drop-shadow(0px 1px 2px rgba(0, 0, 0, 0.3));\n",
              "      fill: #FFFFFF;\n",
              "    }\n",
              "  </style>\n",
              "\n",
              "      <script>\n",
              "        const buttonEl =\n",
              "          document.querySelector('#df-59240dac-fd6d-4de5-bfb7-6a16a7f10bbd button.colab-df-convert');\n",
              "        buttonEl.style.display =\n",
              "          google.colab.kernel.accessAllowed ? 'block' : 'none';\n",
              "\n",
              "        async function convertToInteractive(key) {\n",
              "          const element = document.querySelector('#df-59240dac-fd6d-4de5-bfb7-6a16a7f10bbd');\n",
              "          const dataTable =\n",
              "            await google.colab.kernel.invokeFunction('convertToInteractive',\n",
              "                                                     [key], {});\n",
              "          if (!dataTable) return;\n",
              "\n",
              "          const docLinkHtml = 'Like what you see? Visit the ' +\n",
              "            '<a target=\"_blank\" href=https://colab.research.google.com/notebooks/data_table.ipynb>data table notebook</a>'\n",
              "            + ' to learn more about interactive tables.';\n",
              "          element.innerHTML = '';\n",
              "          dataTable['output_type'] = 'display_data';\n",
              "          await google.colab.output.renderOutput(dataTable, element);\n",
              "          const docLink = document.createElement('div');\n",
              "          docLink.innerHTML = docLinkHtml;\n",
              "          element.appendChild(docLink);\n",
              "        }\n",
              "      </script>\n",
              "    </div>\n",
              "  </div>\n",
              "  "
            ]
          },
          "metadata": {},
          "execution_count": 15
        }
      ]
    },
    {
      "cell_type": "code",
      "source": [
        "df = df.replace(['HOME_TEAM'], 1)\n",
        "df = df.replace(['DRAW'], 0)\n",
        "df = df.replace(['AWAY_TEAM'], 2)"
      ],
      "metadata": {
        "id": "KTmbL4VwylHg"
      },
      "execution_count": 20,
      "outputs": []
    },
    {
      "cell_type": "code",
      "source": [
        "X = df.iloc[:,[1,2]].values\n",
        "Y = df.iloc[:,-1].values"
      ],
      "metadata": {
        "id": "M828BznAw7Tl"
      },
      "execution_count": 21,
      "outputs": []
    },
    {
      "cell_type": "code",
      "source": [
        "Y"
      ],
      "metadata": {
        "colab": {
          "base_uri": "https://localhost:8080/"
        },
        "id": "i7QJLdm_xJCU",
        "outputId": "adb08edb-d88d-4d5e-c7e2-6bb1e9101f9d"
      },
      "execution_count": 22,
      "outputs": [
        {
          "output_type": "execute_result",
          "data": {
            "text/plain": [
              "array([ 1.,  1.,  1.,  1.,  1.,  1.,  2.,  2.,  2.,  1.,  1.,  1.,  0.,\n",
              "        0.,  1.,  1.,  2.,  0.,  2.,  1.,  1.,  0.,  2.,  0.,  2.,  0.,\n",
              "        0.,  1.,  0.,  2.,  1.,  2.,  0.,  1.,  2.,  2.,  1.,  1.,  2.,\n",
              "        1.,  0.,  2.,  2.,  0.,  1.,  2.,  1.,  2.,  1.,  2.,  2.,  2.,\n",
              "        0.,  0.,  2.,  1.,  0.,  2.,  1.,  0.,  0.,  1.,  1.,  1.,  0.,\n",
              "        0.,  2.,  1.,  0.,  0.,  2.,  1.,  0.,  1.,  1.,  2.,  2.,  2.,\n",
              "        2.,  0.,  1.,  1.,  0.,  0.,  2.,  0.,  2.,  1.,  2.,  2.,  2.,\n",
              "        2.,  2.,  2.,  0.,  1.,  2.,  2.,  2.,  1.,  1.,  2.,  1.,  0.,\n",
              "        2.,  0.,  0.,  0.,  1.,  1.,  2.,  1.,  1.,  1.,  0.,  0.,  1.,\n",
              "        1.,  1.,  1.,  1.,  0.,  1.,  2.,  0.,  1.,  1.,  1.,  0.,  0.,\n",
              "        1.,  0.,  0.,  0.,  2.,  2.,  2.,  1.,  1.,  1.,  2.,  0.,  1.,\n",
              "        2.,  1.,  1.,  0.,  1.,  1.,  1.,  1.,  1.,  1.,  1.,  2.,  1.,\n",
              "        0.,  1.,  2.,  1.,  0.,  2.,  1.,  0.,  1.,  2.,  0.,  2.,  0.,\n",
              "        2.,  1.,  2.,  1.,  2.,  1.,  0.,  1.,  2.,  0.,  1.,  0.,  2.,\n",
              "        1.,  2.,  2.,  2.,  1.,  2.,  1.,  0.,  2.,  1.,  1.,  0.,  1.,\n",
              "        1.,  1.,  0.,  0.,  2.,  1.,  0.,  2.,  2.,  2.,  2.,  1.,  2.,\n",
              "        2.,  0.,  0.,  2.,  0.,  1.,  0.,  1.,  1.,  0.,  1.,  2.,  0.,\n",
              "        0.,  1.,  2.,  0.,  2.,  1.,  0.,  2.,  2.,  1.,  2.,  0.,  1.,\n",
              "        0.,  1.,  1.,  2.,  2.,  2.,  1.,  2.,  2.,  1.,  2.,  1.,  1.,\n",
              "        1.,  1.,  2.,  0.,  0.,  2.,  2.,  2.,  1.,  2.,  1.,  2.,  2.,\n",
              "        1.,  2.,  1.,  1.,  2.,  1.,  1.,  1.,  2.,  2.,  2.,  2.,  1.,\n",
              "        1.,  1.,  2.,  1.,  2.,  1.,  1.,  0.,  2.,  2.,  1.,  2.,  2.,\n",
              "        1.,  1.,  1.,  0.,  2.,  2.,  0.,  1.,  0.,  1.,  1.,  1.,  1.,\n",
              "        1.,  1.,  2.,  2.,  2.,  2.,  1.,  1.,  1.,  0.,  2.,  1.,  1.,\n",
              "        2.,  1.,  0.,  1.,  0.,  1.,  2.,  1.,  1.,  1.,  0.,  1.,  2.,\n",
              "        0.,  0.,  1.,  1.,  1.,  0.,  0.,  2.,  1.,  2.,  2.,  2.,  2.,\n",
              "        1.,  1.,  2., nan, nan, nan, nan, nan, nan, nan, nan, nan, nan,\n",
              "       nan, nan, nan, nan, nan, nan, nan, nan, nan, nan, nan, nan, nan,\n",
              "       nan, nan, nan, nan, nan, nan, nan, nan, nan, nan, nan, nan, nan,\n",
              "       nan, nan, nan])"
            ]
          },
          "metadata": {},
          "execution_count": 22
        }
      ]
    }
  ]
}